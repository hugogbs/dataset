{
 "cells": [
  {
   "cell_type": "code",
   "execution_count": 38,
   "metadata": {},
   "outputs": [],
   "source": [
    "import nltk\n",
    "import re\n",
    "import pandas as pd\n",
    "from sklearn.feature_extraction.text import CountVectorizer\n",
    "from sklearn.naive_bayes import MultinomialNB\n",
    "from sklearn import metrics\n",
    "from sklearn.model_selection import cross_val_predict"
   ]
  },
  {
   "cell_type": "code",
   "execution_count": 120,
   "metadata": {
    "scrolled": true
   },
   "outputs": [
    {
     "data": {
      "text/plain": [
       "(25911, 4)"
      ]
     },
     "execution_count": 120,
     "metadata": {},
     "output_type": "execute_result"
    }
   ],
   "source": [
    "tweets = pd.read_csv(\"tweets.csv\", encoding='utf-8')\n",
    "tweets.shape"
   ]
  },
  {
   "cell_type": "code",
   "execution_count": 122,
   "metadata": {
    "scrolled": true
   },
   "outputs": [
    {
     "data": {
      "text/plain": [
       "(25905, 4)"
      ]
     },
     "execution_count": 122,
     "metadata": {},
     "output_type": "execute_result"
    }
   ],
   "source": [
    "tweets.dropna(inplace=True)\n",
    "tweets.shape"
   ]
  },
  {
   "cell_type": "code",
   "execution_count": 287,
   "metadata": {},
   "outputs": [],
   "source": [
    "def remove_stopwords(text):\n",
    "    stopwords = set(nltk.corpus.stopwords.words('portuguese'))\n",
    "    words = [i for i in text.split() if not i in stopwords]\n",
    "    return (\" \".join(words))\n",
    "\n",
    "def remove_links(text):\n",
    "    return re.sub(r\"http\\S+\", \"\", text)\n",
    "\n",
    "def remove_mentions(text):\n",
    "    return re.sub(r\"@\\w+\", \"\", text)\n",
    "\n",
    "def remove_retweets(text):\n",
    "    return re.sub(r\"rt\\s\", \"\", text)\n",
    "\n",
    "def remove_special_chars(text):\n",
    "    text = re.sub(r'[^\\w\\s]', ' ', text)\n",
    "    text = re.sub(r\"$\\d+\\W+|\\b\\d+\\b|\\W+\\d+$\", \"\", text)\n",
    "    text_with_no_special_chars = re.sub(\"\\s+\", \" \", text)\n",
    "    return text_with_no_special_chars\n",
    "\n",
    "def stemming(text):\n",
    "    stemmer = nltk.stem.RSLPStemmer()\n",
    "    words = []\n",
    "    for word in text.split():\n",
    "        words.append(stemmer.stem(word))\n",
    "    return (\" \".join(words))\n",
    "\n",
    "def standardize_text(text):\n",
    "    text = text.lower()\n",
    "    text = remove_links(text)\n",
    "    text = remove_mentions(text)\n",
    "    text = remove_retweets(text)\n",
    "    text = remove_stopwords(text)\n",
    "    text = remove_special_chars(text)\n",
    "    #text = stemming(text)\n",
    "    return text\n",
    "def sentiment_to_name(n):\n",
    "    if n == 0:\n",
    "        n = 'Negativo'\n",
    "    elif n == 1:\n",
    "        n = 'Positivo'\n",
    "    return n\n",
    "\n",
    "def name_to_sentiment(n):\n",
    "    if n == 'Negativo':\n",
    "        n = \"0\"\n",
    "    elif n == 'Positivo':\n",
    "        n = \"1\"\n",
    "    return n"
   ]
  },
  {
   "cell_type": "code",
   "execution_count": 124,
   "metadata": {},
   "outputs": [
    {
     "data": {
      "text/html": [
       "<div>\n",
       "<style scoped>\n",
       "    .dataframe tbody tr th:only-of-type {\n",
       "        vertical-align: middle;\n",
       "    }\n",
       "\n",
       "    .dataframe tbody tr th {\n",
       "        vertical-align: top;\n",
       "    }\n",
       "\n",
       "    .dataframe thead th {\n",
       "        text-align: right;\n",
       "    }\n",
       "</style>\n",
       "<table border=\"1\" class=\"dataframe\">\n",
       "  <thead>\n",
       "    <tr style=\"text-align: right;\">\n",
       "      <th></th>\n",
       "      <th>Unnamed: 0</th>\n",
       "      <th>id</th>\n",
       "      <th>text</th>\n",
       "      <th>sentiment</th>\n",
       "    </tr>\n",
       "  </thead>\n",
       "  <tbody>\n",
       "    <tr>\n",
       "      <th>0</th>\n",
       "      <td>7896</td>\n",
       "      <td>7895</td>\n",
       "      <td>hoje vídeo abrindo emp</td>\n",
       "      <td>Positivo</td>\n",
       "    </tr>\n",
       "    <tr>\n",
       "      <th>1</th>\n",
       "      <td>7967</td>\n",
       "      <td>7965</td>\n",
       "      <td>passar tarde estudar olha q bonito</td>\n",
       "      <td>Positivo</td>\n",
       "    </tr>\n",
       "    <tr>\n",
       "      <th>2</th>\n",
       "      <td>3611</td>\n",
       "      <td>3610</td>\n",
       "      <td>tava gaja torneio ai filha puta ainda tentei a...</td>\n",
       "      <td>Positivo</td>\n",
       "    </tr>\n",
       "    <tr>\n",
       "      <th>3</th>\n",
       "      <td>9612</td>\n",
       "      <td>1139</td>\n",
       "      <td>chateadissima eliminação red canids diria sent...</td>\n",
       "      <td>Negativo</td>\n",
       "    </tr>\n",
       "    <tr>\n",
       "      <th>4</th>\n",
       "      <td>15859</td>\n",
       "      <td>7386</td>\n",
       "      <td>tô pensando fazer colinha professora é esperta</td>\n",
       "      <td>Negativo</td>\n",
       "    </tr>\n",
       "  </tbody>\n",
       "</table>\n",
       "</div>"
      ],
      "text/plain": [
       "   Unnamed: 0    id                                               text  \\\n",
       "0        7896  7895                            hoje vídeo abrindo emp    \n",
       "1        7967  7965                passar tarde estudar olha q bonito    \n",
       "2        3611  3610  tava gaja torneio ai filha puta ainda tentei a...   \n",
       "3        9612  1139  chateadissima eliminação red canids diria sent...   \n",
       "4       15859  7386    tô pensando fazer colinha professora é esperta    \n",
       "\n",
       "  sentiment  \n",
       "0  Positivo  \n",
       "1  Positivo  \n",
       "2  Positivo  \n",
       "3  Negativo  \n",
       "4  Negativo  "
      ]
     },
     "execution_count": 124,
     "metadata": {},
     "output_type": "execute_result"
    }
   ],
   "source": [
    "tweets.text = tweets.text.apply(standardize_text)\n",
    "tweets.sentiment = tweets.sentiment.apply(sentiment_to_name)\n",
    "tweets.head()"
   ]
  },
  {
   "cell_type": "code",
   "execution_count": 125,
   "metadata": {
    "scrolled": true
   },
   "outputs": [],
   "source": [
    "tweets_text = tweets[\"text\"].values\n",
    "classes = tweets['sentiment'].values"
   ]
  },
  {
   "cell_type": "code",
   "execution_count": 126,
   "metadata": {},
   "outputs": [
    {
     "data": {
      "text/plain": [
       "25905"
      ]
     },
     "execution_count": 126,
     "metadata": {},
     "output_type": "execute_result"
    }
   ],
   "source": [
    "len(tweets_text)"
   ]
  },
  {
   "cell_type": "code",
   "execution_count": 208,
   "metadata": {},
   "outputs": [
    {
     "data": {
      "text/plain": [
       "MultinomialNB(alpha=1.0, class_prior=None, fit_prior=True)"
      ]
     },
     "execution_count": 208,
     "metadata": {},
     "output_type": "execute_result"
    }
   ],
   "source": [
    "vectorizer = CountVectorizer(ngram_range = (1, 2))\n",
    "freq_tweets = vectorizer.fit_transform(tweets_text)\n",
    "\n",
    "modelo = MultinomialNB()\n",
    "modelo.fit(freq_tweets, classes)"
   ]
  },
  {
   "cell_type": "code",
   "execution_count": 209,
   "metadata": {},
   "outputs": [
    {
     "data": {
      "text/plain": [
       "array(['Positivo', 'Negativo', 'Negativo', 'Negativo', 'Negativo',\n",
       "       'Negativo'], dtype='<U8')"
      ]
     },
     "execution_count": 209,
     "metadata": {},
     "output_type": "execute_result"
    }
   ],
   "source": [
    "testes = [\"bom\",\n",
    "          \"ruim\",\n",
    "          \"Odeio a politica brasileira\",\n",
    "          \"final de período tá complicado\",\n",
    "          \"Amizade\",\n",
    "          \"link ruim\"]\n",
    "\n",
    "freq_testes = vectorizer.transform(testes)\n",
    "modelo.predict(freq_testes)"
   ]
  },
  {
   "cell_type": "code",
   "execution_count": 210,
   "metadata": {},
   "outputs": [
    {
     "data": {
      "text/plain": [
       "array(['Positivo', 'Positivo', 'Negativo', ..., 'Negativo', 'Positivo',\n",
       "       'Negativo'], dtype='<U8')"
      ]
     },
     "execution_count": 210,
     "metadata": {},
     "output_type": "execute_result"
    }
   ],
   "source": [
    "resultados = cross_val_predict(modelo, freq_tweets, classes, cv = 10)\n",
    "resultados"
   ]
  },
  {
   "cell_type": "code",
   "execution_count": 131,
   "metadata": {},
   "outputs": [
    {
     "data": {
      "text/plain": [
       "0.7695811619378499"
      ]
     },
     "execution_count": 131,
     "metadata": {},
     "output_type": "execute_result"
    }
   ],
   "source": [
    "metrics.accuracy_score(classes, resultados)"
   ]
  },
  {
   "cell_type": "code",
   "execution_count": 132,
   "metadata": {},
   "outputs": [
    {
     "name": "stdout",
     "output_type": "stream",
     "text": [
      "             precision    recall  f1-score   support\n",
      "\n",
      "   Positivo       0.69      0.57      0.62      8703\n",
      "   Negativo       0.80      0.87      0.83     17202\n",
      "\n",
      "avg / total       0.76      0.77      0.76     25905\n",
      "\n"
     ]
    }
   ],
   "source": [
    "sentimentos = [\"Positivo\", \"Negativo\"]\n",
    "print(metrics.classification_report(classes, resultados, sentimentos))"
   ]
  },
  {
   "cell_type": "code",
   "execution_count": 134,
   "metadata": {},
   "outputs": [],
   "source": [
    "freq = vectorizer.transform(tweets.text)\n",
    "predict_tweets = modelo.predict(freq)"
   ]
  },
  {
   "cell_type": "code",
   "execution_count": 136,
   "metadata": {
    "scrolled": true
   },
   "outputs": [
    {
     "data": {
      "text/html": [
       "<div>\n",
       "<style scoped>\n",
       "    .dataframe tbody tr th:only-of-type {\n",
       "        vertical-align: middle;\n",
       "    }\n",
       "\n",
       "    .dataframe tbody tr th {\n",
       "        vertical-align: top;\n",
       "    }\n",
       "\n",
       "    .dataframe thead th {\n",
       "        text-align: right;\n",
       "    }\n",
       "</style>\n",
       "<table border=\"1\" class=\"dataframe\">\n",
       "  <thead>\n",
       "    <tr style=\"text-align: right;\">\n",
       "      <th></th>\n",
       "      <th>Unnamed: 0</th>\n",
       "      <th>id</th>\n",
       "      <th>text</th>\n",
       "      <th>sentiment</th>\n",
       "      <th>predicted</th>\n",
       "    </tr>\n",
       "  </thead>\n",
       "  <tbody>\n",
       "    <tr>\n",
       "      <th>0</th>\n",
       "      <td>7896</td>\n",
       "      <td>7895</td>\n",
       "      <td>hoje vídeo abrindo emp</td>\n",
       "      <td>Positivo</td>\n",
       "      <td>Positivo</td>\n",
       "    </tr>\n",
       "    <tr>\n",
       "      <th>1</th>\n",
       "      <td>7967</td>\n",
       "      <td>7965</td>\n",
       "      <td>passar tarde estudar olha q bonito</td>\n",
       "      <td>Positivo</td>\n",
       "      <td>Positivo</td>\n",
       "    </tr>\n",
       "    <tr>\n",
       "      <th>2</th>\n",
       "      <td>3611</td>\n",
       "      <td>3610</td>\n",
       "      <td>tava gaja torneio ai filha puta ainda tentei a...</td>\n",
       "      <td>Positivo</td>\n",
       "      <td>Positivo</td>\n",
       "    </tr>\n",
       "    <tr>\n",
       "      <th>3</th>\n",
       "      <td>9612</td>\n",
       "      <td>1139</td>\n",
       "      <td>chateadissima eliminação red canids diria sent...</td>\n",
       "      <td>Negativo</td>\n",
       "      <td>Negativo</td>\n",
       "    </tr>\n",
       "    <tr>\n",
       "      <th>4</th>\n",
       "      <td>15859</td>\n",
       "      <td>7386</td>\n",
       "      <td>tô pensando fazer colinha professora é esperta</td>\n",
       "      <td>Negativo</td>\n",
       "      <td>Negativo</td>\n",
       "    </tr>\n",
       "  </tbody>\n",
       "</table>\n",
       "</div>"
      ],
      "text/plain": [
       "   Unnamed: 0    id                                               text  \\\n",
       "0        7896  7895                            hoje vídeo abrindo emp    \n",
       "1        7967  7965                passar tarde estudar olha q bonito    \n",
       "2        3611  3610  tava gaja torneio ai filha puta ainda tentei a...   \n",
       "3        9612  1139  chateadissima eliminação red canids diria sent...   \n",
       "4       15859  7386    tô pensando fazer colinha professora é esperta    \n",
       "\n",
       "  sentiment predicted  \n",
       "0  Positivo  Positivo  \n",
       "1  Positivo  Positivo  \n",
       "2  Positivo  Positivo  \n",
       "3  Negativo  Negativo  \n",
       "4  Negativo  Negativo  "
      ]
     },
     "execution_count": 136,
     "metadata": {},
     "output_type": "execute_result"
    }
   ],
   "source": [
    "tweets['predicted'] = predict_tweets\n",
    "tweets.head()"
   ]
  },
  {
   "cell_type": "code",
   "execution_count": 138,
   "metadata": {},
   "outputs": [
    {
     "data": {
      "text/plain": [
       "(1402, 5)"
      ]
     },
     "execution_count": 138,
     "metadata": {},
     "output_type": "execute_result"
    }
   ],
   "source": [
    "not_match = tweets[tweets[\"sentiment\"] != tweets[\"predicted\"]]\n",
    "not_match.shape"
   ]
  },
  {
   "cell_type": "code",
   "execution_count": 140,
   "metadata": {},
   "outputs": [
    {
     "data": {
      "text/plain": [
       "(24503, 5)"
      ]
     },
     "execution_count": 140,
     "metadata": {},
     "output_type": "execute_result"
    }
   ],
   "source": [
    "match = tweets[tweets[\"sentiment\"] == tweets[\"predicted\"]]\n",
    "match.shape"
   ]
  },
  {
   "cell_type": "code",
   "execution_count": 250,
   "metadata": {
    "scrolled": false
   },
   "outputs": [
    {
     "data": {
      "text/html": [
       "<div>\n",
       "<style scoped>\n",
       "    .dataframe tbody tr th:only-of-type {\n",
       "        vertical-align: middle;\n",
       "    }\n",
       "\n",
       "    .dataframe tbody tr th {\n",
       "        vertical-align: top;\n",
       "    }\n",
       "\n",
       "    .dataframe thead th {\n",
       "        text-align: right;\n",
       "    }\n",
       "</style>\n",
       "<table border=\"1\" class=\"dataframe\">\n",
       "  <thead>\n",
       "    <tr style=\"text-align: right;\">\n",
       "      <th></th>\n",
       "      <th>date</th>\n",
       "      <th>text</th>\n",
       "      <th>sentiment</th>\n",
       "    </tr>\n",
       "  </thead>\n",
       "  <tbody>\n",
       "    <tr>\n",
       "      <th>0</th>\n",
       "      <td>2018-07-30 23:40:15</td>\n",
       "      <td>RT @joaoassi2: #mariellepresente, não só quand...</td>\n",
       "      <td>1</td>\n",
       "    </tr>\n",
       "    <tr>\n",
       "      <th>1</th>\n",
       "      <td>2018-07-30 23:31:31</td>\n",
       "      <td>RT @joaoassi2: #mariellepresente, não só quand...</td>\n",
       "      <td>1</td>\n",
       "    </tr>\n",
       "    <tr>\n",
       "      <th>2</th>\n",
       "      <td>2018-07-30 23:30:52</td>\n",
       "      <td>#mariellepresente, não só quando convém! https...</td>\n",
       "      <td>1</td>\n",
       "    </tr>\n",
       "    <tr>\n",
       "      <th>3</th>\n",
       "      <td>2018-07-30 23:14:22</td>\n",
       "      <td>RT @abdalafarah: Hoje Marielle Franco completa...</td>\n",
       "      <td>1</td>\n",
       "    </tr>\n",
       "    <tr>\n",
       "      <th>4</th>\n",
       "      <td>2018-07-30 23:12:12</td>\n",
       "      <td>RT @alinecpiva: 29 congressistas estadunidense...</td>\n",
       "      <td>NaN</td>\n",
       "    </tr>\n",
       "  </tbody>\n",
       "</table>\n",
       "</div>"
      ],
      "text/plain": [
       "                  date                                               text  \\\n",
       "0  2018-07-30 23:40:15  RT @joaoassi2: #mariellepresente, não só quand...   \n",
       "1  2018-07-30 23:31:31  RT @joaoassi2: #mariellepresente, não só quand...   \n",
       "2  2018-07-30 23:30:52  #mariellepresente, não só quando convém! https...   \n",
       "3  2018-07-30 23:14:22  RT @abdalafarah: Hoje Marielle Franco completa...   \n",
       "4  2018-07-30 23:12:12  RT @alinecpiva: 29 congressistas estadunidense...   \n",
       "\n",
       "  sentiment  \n",
       "0         1  \n",
       "1         1  \n",
       "2         1  \n",
       "3         1  \n",
       "4       NaN  "
      ]
     },
     "execution_count": 250,
     "metadata": {},
     "output_type": "execute_result"
    }
   ],
   "source": [
    "marielle_tweets = pd.read_csv(\"marielle_tweets.csv\", encoding='utf-8').dropna(subset=['text'])\n",
    "marielle_tweets.head()"
   ]
  },
  {
   "cell_type": "code",
   "execution_count": 251,
   "metadata": {},
   "outputs": [],
   "source": [
    "marielle_tweets.text = marielle_tweets.text.apply(standardize_text)"
   ]
  },
  {
   "cell_type": "code",
   "execution_count": 255,
   "metadata": {
    "scrolled": true
   },
   "outputs": [
    {
     "data": {
      "text/html": [
       "<div>\n",
       "<style scoped>\n",
       "    .dataframe tbody tr th:only-of-type {\n",
       "        vertical-align: middle;\n",
       "    }\n",
       "\n",
       "    .dataframe tbody tr th {\n",
       "        vertical-align: top;\n",
       "    }\n",
       "\n",
       "    .dataframe thead th {\n",
       "        text-align: right;\n",
       "    }\n",
       "</style>\n",
       "<table border=\"1\" class=\"dataframe\">\n",
       "  <thead>\n",
       "    <tr style=\"text-align: right;\">\n",
       "      <th></th>\n",
       "      <th>date</th>\n",
       "      <th>text</th>\n",
       "      <th>sentiment</th>\n",
       "    </tr>\n",
       "  </thead>\n",
       "  <tbody>\n",
       "    <tr>\n",
       "      <th>0</th>\n",
       "      <td>2018-07-30 23:40:15</td>\n",
       "      <td>mariellepresente convém</td>\n",
       "      <td>1</td>\n",
       "    </tr>\n",
       "    <tr>\n",
       "      <th>1</th>\n",
       "      <td>2018-07-30 23:31:31</td>\n",
       "      <td>mariellepresente convém</td>\n",
       "      <td>1</td>\n",
       "    </tr>\n",
       "    <tr>\n",
       "      <th>2</th>\n",
       "      <td>2018-07-30 23:30:52</td>\n",
       "      <td>mariellepresente convém</td>\n",
       "      <td>1</td>\n",
       "    </tr>\n",
       "    <tr>\n",
       "      <th>3</th>\n",
       "      <td>2018-07-30 23:14:22</td>\n",
       "      <td>hoje marielle franco completaria anos idade v...</td>\n",
       "      <td>1</td>\n",
       "    </tr>\n",
       "    <tr>\n",
       "      <th>4</th>\n",
       "      <td>2018-07-30 23:12:12</td>\n",
       "      <td>congressistas estadunidenses incluindo enviar...</td>\n",
       "      <td>NaN</td>\n",
       "    </tr>\n",
       "    <tr>\n",
       "      <th>5</th>\n",
       "      <td>2018-07-30 23:12:04</td>\n",
       "      <td>dias passaram matou marielle mandou matar mar...</td>\n",
       "      <td>1</td>\n",
       "    </tr>\n",
       "    <tr>\n",
       "      <th>6</th>\n",
       "      <td>2018-07-30 22:28:50</td>\n",
       "      <td>dias meses dias dias marielle franco matou ma...</td>\n",
       "      <td>1</td>\n",
       "    </tr>\n",
       "    <tr>\n",
       "      <th>7</th>\n",
       "      <td>2018-07-30 22:09:14</td>\n",
       "      <td>cadê bocas gamela ficavam gritando mariellepre...</td>\n",
       "      <td>0</td>\n",
       "    </tr>\n",
       "    <tr>\n",
       "      <th>8</th>\n",
       "      <td>2018-07-30 20:00:48</td>\n",
       "      <td>hoje marielle completaria anos idade pergunta...</td>\n",
       "      <td>1</td>\n",
       "    </tr>\n",
       "    <tr>\n",
       "      <th>9</th>\n",
       "      <td>2018-07-30 19:45:30</td>\n",
       "      <td>dias meses dias dias marielle franco matou ma...</td>\n",
       "      <td>1</td>\n",
       "    </tr>\n",
       "    <tr>\n",
       "      <th>10</th>\n",
       "      <td>2018-07-30 19:42:44</td>\n",
       "      <td>dias meses dias dias marielle franco matou ma...</td>\n",
       "      <td>1</td>\n",
       "    </tr>\n",
       "    <tr>\n",
       "      <th>11</th>\n",
       "      <td>2018-07-30 19:21:53</td>\n",
       "      <td>povo rua contra psdbpatriaespancadora temer a...</td>\n",
       "      <td>NaN</td>\n",
       "    </tr>\n",
       "    <tr>\n",
       "      <th>12</th>\n",
       "      <td>2018-07-30 18:57:19</td>\n",
       "      <td>dias matou marielle anderson mandou matar mar...</td>\n",
       "      <td>1</td>\n",
       "    </tr>\n",
       "    <tr>\n",
       "      <th>13</th>\n",
       "      <td>2018-07-30 18:48:55</td>\n",
       "      <td>povo rua contra psdbpatriaespancadora temer a...</td>\n",
       "      <td>NaN</td>\n",
       "    </tr>\n",
       "    <tr>\n",
       "      <th>14</th>\n",
       "      <td>2018-07-30 17:33:41</td>\n",
       "      <td>marcha lado mulheres negras respeito admiro d...</td>\n",
       "      <td>1</td>\n",
       "    </tr>\n",
       "    <tr>\n",
       "      <th>15</th>\n",
       "      <td>2018-07-30 14:40:23</td>\n",
       "      <td>jornal uruguaio quemmatoumarielle quemmandouma...</td>\n",
       "      <td>NaN</td>\n",
       "    </tr>\n",
       "    <tr>\n",
       "      <th>16</th>\n",
       "      <td>2018-07-30 14:19:37</td>\n",
       "      <td>dias meses dias dias marielle franco matou ma...</td>\n",
       "      <td>1</td>\n",
       "    </tr>\n",
       "    <tr>\n",
       "      <th>17</th>\n",
       "      <td>2018-07-30 13:47:22</td>\n",
       "      <td>manuaovivo quando dizemos lulalivre mariellep...</td>\n",
       "      <td>1</td>\n",
       "    </tr>\n",
       "    <tr>\n",
       "      <th>18</th>\n",
       "      <td>2018-07-30 13:43:36</td>\n",
       "      <td>ouvi mt isso quemmatoumarielle é moda daqui po...</td>\n",
       "      <td>0</td>\n",
       "    </tr>\n",
       "    <tr>\n",
       "      <th>19</th>\n",
       "      <td>2018-07-30 13:06:39</td>\n",
       "      <td>feliz aniversário marielle ainda aguardamos j...</td>\n",
       "      <td>1</td>\n",
       "    </tr>\n",
       "    <tr>\n",
       "      <th>20</th>\n",
       "      <td>2018-07-30 12:24:30</td>\n",
       "      <td>matou marielle mandou matar marielle família m...</td>\n",
       "      <td>1</td>\n",
       "    </tr>\n",
       "    <tr>\n",
       "      <th>21</th>\n",
       "      <td>2018-07-30 12:20:12</td>\n",
       "      <td>ontem dia marcha mulheres negras rio pela vida...</td>\n",
       "      <td>1</td>\n",
       "    </tr>\n",
       "    <tr>\n",
       "      <th>22</th>\n",
       "      <td>2018-07-30 11:53:34</td>\n",
       "      <td>mariellepresente rivalzinho</td>\n",
       "      <td>NaN</td>\n",
       "    </tr>\n",
       "    <tr>\n",
       "      <th>23</th>\n",
       "      <td>2018-07-30 11:33:27</td>\n",
       "      <td>dias passaram matou marielle mandou matar mar...</td>\n",
       "      <td>1</td>\n",
       "    </tr>\n",
       "    <tr>\n",
       "      <th>24</th>\n",
       "      <td>2018-07-30 11:07:31</td>\n",
       "      <td>dias passaram matou marielle mandou matar mar...</td>\n",
       "      <td>1</td>\n",
       "    </tr>\n",
       "    <tr>\n",
       "      <th>25</th>\n",
       "      <td>2018-07-30 10:59:43</td>\n",
       "      <td>pra registrar fim julho inspirações pro início...</td>\n",
       "      <td>NaN</td>\n",
       "    </tr>\n",
       "    <tr>\n",
       "      <th>26</th>\n",
       "      <td>2018-07-30 10:53:36</td>\n",
       "      <td>enfiemaspanelasnocu toda rede corrupção aprov...</td>\n",
       "      <td>NaN</td>\n",
       "    </tr>\n",
       "    <tr>\n",
       "      <th>27</th>\n",
       "      <td>2018-07-30 10:49:36</td>\n",
       "      <td>matou mandou matar marielle anderson dias resp...</td>\n",
       "      <td>1</td>\n",
       "    </tr>\n",
       "    <tr>\n",
       "      <th>28</th>\n",
       "      <td>2018-07-30 10:37:24</td>\n",
       "      <td>enfiemaspanelasnocu toda rede corrupção aprov...</td>\n",
       "      <td>NaN</td>\n",
       "    </tr>\n",
       "    <tr>\n",
       "      <th>29</th>\n",
       "      <td>2018-07-30 10:30:52</td>\n",
       "      <td>dias passaram matou marielle mandou matar mar...</td>\n",
       "      <td>1</td>\n",
       "    </tr>\n",
       "    <tr>\n",
       "      <th>...</th>\n",
       "      <td>...</td>\n",
       "      <td>...</td>\n",
       "      <td>...</td>\n",
       "    </tr>\n",
       "    <tr>\n",
       "      <th>1604</th>\n",
       "      <td>2018-07-21 03:30:42</td>\n",
       "      <td>boa noite galera lulalivre lulapresidente que...</td>\n",
       "      <td>NaN</td>\n",
       "    </tr>\n",
       "    <tr>\n",
       "      <th>1605</th>\n",
       "      <td>2018-07-21 03:27:05</td>\n",
       "      <td>boa noite galera lulalivre lulapresidente que...</td>\n",
       "      <td>NaN</td>\n",
       "    </tr>\n",
       "    <tr>\n",
       "      <th>1606</th>\n",
       "      <td>2018-07-21 03:20:44</td>\n",
       "      <td>boa noite galera lulalivre lulapresidente que...</td>\n",
       "      <td>NaN</td>\n",
       "    </tr>\n",
       "    <tr>\n",
       "      <th>1607</th>\n",
       "      <td>2018-07-21 02:47:21</td>\n",
       "      <td>ministro nega hc investigado morte mariellefr...</td>\n",
       "      <td>NaN</td>\n",
       "    </tr>\n",
       "    <tr>\n",
       "      <th>1608</th>\n",
       "      <td>2018-07-21 02:45:51</td>\n",
       "      <td>retweeted rê boa noite galera lulalivre lulapr...</td>\n",
       "      <td>NaN</td>\n",
       "    </tr>\n",
       "    <tr>\n",
       "      <th>1609</th>\n",
       "      <td>2018-07-21 02:45:38</td>\n",
       "      <td>boa noite galera lulalivre lulapresidente que...</td>\n",
       "      <td>NaN</td>\n",
       "    </tr>\n",
       "    <tr>\n",
       "      <th>1610</th>\n",
       "      <td>2018-07-21 02:44:16</td>\n",
       "      <td>boa noite galera lulalivre lulapresidente que...</td>\n",
       "      <td>NaN</td>\n",
       "    </tr>\n",
       "    <tr>\n",
       "      <th>1611</th>\n",
       "      <td>2018-07-21 02:31:18</td>\n",
       "      <td>boa noite galera lulalivre lulapresidente que...</td>\n",
       "      <td>NaN</td>\n",
       "    </tr>\n",
       "    <tr>\n",
       "      <th>1612</th>\n",
       "      <td>2018-07-21 02:13:17</td>\n",
       "      <td>meses mariellefranco hoje matou marielle</td>\n",
       "      <td>NaN</td>\n",
       "    </tr>\n",
       "    <tr>\n",
       "      <th>1613</th>\n",
       "      <td>2018-07-21 02:12:50</td>\n",
       "      <td>boa noite galera lulalivre lulapresidente que...</td>\n",
       "      <td>NaN</td>\n",
       "    </tr>\n",
       "    <tr>\n",
       "      <th>1614</th>\n",
       "      <td>2018-07-21 02:11:35</td>\n",
       "      <td>boa noite galera lulalivre lulapresidente que...</td>\n",
       "      <td>NaN</td>\n",
       "    </tr>\n",
       "    <tr>\n",
       "      <th>1615</th>\n",
       "      <td>2018-07-21 02:09:48</td>\n",
       "      <td>boa noite galera lulalivre lulapresidente que...</td>\n",
       "      <td>NaN</td>\n",
       "    </tr>\n",
       "    <tr>\n",
       "      <th>1616</th>\n",
       "      <td>2018-07-21 02:07:36</td>\n",
       "      <td>boa noite galera lulalivre lulapresidente que...</td>\n",
       "      <td>NaN</td>\n",
       "    </tr>\n",
       "    <tr>\n",
       "      <th>1617</th>\n",
       "      <td>2018-07-21 02:05:09</td>\n",
       "      <td>boa noite galera lulalivre lulapresidente que...</td>\n",
       "      <td>NaN</td>\n",
       "    </tr>\n",
       "    <tr>\n",
       "      <th>1618</th>\n",
       "      <td>2018-07-21 02:05:01</td>\n",
       "      <td>boa noite galera lulalivre lulapresidente que...</td>\n",
       "      <td>NaN</td>\n",
       "    </tr>\n",
       "    <tr>\n",
       "      <th>1619</th>\n",
       "      <td>2018-07-21 02:00:26</td>\n",
       "      <td>boa noite galera lulalivre lulapresidente que...</td>\n",
       "      <td>NaN</td>\n",
       "    </tr>\n",
       "    <tr>\n",
       "      <th>1620</th>\n",
       "      <td>2018-07-21 01:57:33</td>\n",
       "      <td>boa noite galera lulalivre lulapresidente que...</td>\n",
       "      <td>NaN</td>\n",
       "    </tr>\n",
       "    <tr>\n",
       "      <th>1621</th>\n",
       "      <td>2018-07-21 01:42:41</td>\n",
       "      <td>boa noite galera lulalivre lulapresidente quem...</td>\n",
       "      <td>NaN</td>\n",
       "    </tr>\n",
       "    <tr>\n",
       "      <th>1622</th>\n",
       "      <td>2018-07-21 01:37:31</td>\n",
       "      <td>quatro meses marielle precisamos milhão marie...</td>\n",
       "      <td>NaN</td>\n",
       "    </tr>\n",
       "    <tr>\n",
       "      <th>1623</th>\n",
       "      <td>2018-07-21 01:23:02</td>\n",
       "      <td>rio lei cria dia marielle franco contra genoc...</td>\n",
       "      <td>NaN</td>\n",
       "    </tr>\n",
       "    <tr>\n",
       "      <th>1624</th>\n",
       "      <td>2018-07-21 01:22:45</td>\n",
       "      <td>abraço desejo feliz dia amizade pras irmãs pre...</td>\n",
       "      <td>NaN</td>\n",
       "    </tr>\n",
       "    <tr>\n",
       "      <th>1625</th>\n",
       "      <td>2018-07-21 00:58:17</td>\n",
       "      <td>quatro meses marielle precisamos milhão marie...</td>\n",
       "      <td>NaN</td>\n",
       "    </tr>\n",
       "    <tr>\n",
       "      <th>1626</th>\n",
       "      <td>2018-07-21 00:54:10</td>\n",
       "      <td>quatro meses marielle precisamos milhão marie...</td>\n",
       "      <td>NaN</td>\n",
       "    </tr>\n",
       "    <tr>\n",
       "      <th>1627</th>\n",
       "      <td>2018-07-21 00:48:20</td>\n",
       "      <td>tanta gente questionando quê mobilizaçãopelo ...</td>\n",
       "      <td>NaN</td>\n",
       "    </tr>\n",
       "    <tr>\n",
       "      <th>1628</th>\n",
       "      <td>2018-07-20 23:53:35</td>\n",
       "      <td>dias presidente interventor segurança pública...</td>\n",
       "      <td>NaN</td>\n",
       "    </tr>\n",
       "    <tr>\n",
       "      <th>1629</th>\n",
       "      <td>2018-07-20 23:51:20</td>\n",
       "      <td>dias respostas mariellepresente</td>\n",
       "      <td>NaN</td>\n",
       "    </tr>\n",
       "    <tr>\n",
       "      <th>1630</th>\n",
       "      <td>2018-07-20 23:40:48</td>\n",
       "      <td>outras ameaças externas listadas intervenção ...</td>\n",
       "      <td>NaN</td>\n",
       "    </tr>\n",
       "    <tr>\n",
       "      <th>1631</th>\n",
       "      <td>2018-07-20 23:38:31</td>\n",
       "      <td>stj nega pedido transferência preso suspeito ...</td>\n",
       "      <td>NaN</td>\n",
       "    </tr>\n",
       "    <tr>\n",
       "      <th>1632</th>\n",
       "      <td>2018-07-20 23:30:31</td>\n",
       "      <td>dias presidente interventor segurança pública...</td>\n",
       "      <td>NaN</td>\n",
       "    </tr>\n",
       "    <tr>\n",
       "      <th>1633</th>\n",
       "      <td>2018-07-20 23:13:51</td>\n",
       "      <td>dias respostas mariellepresente</td>\n",
       "      <td>NaN</td>\n",
       "    </tr>\n",
       "  </tbody>\n",
       "</table>\n",
       "<p>1634 rows × 3 columns</p>\n",
       "</div>"
      ],
      "text/plain": [
       "                     date                                               text  \\\n",
       "0     2018-07-30 23:40:15                           mariellepresente convém    \n",
       "1     2018-07-30 23:31:31                           mariellepresente convém    \n",
       "2     2018-07-30 23:30:52                           mariellepresente convém    \n",
       "3     2018-07-30 23:14:22   hoje marielle franco completaria anos idade v...   \n",
       "4     2018-07-30 23:12:12   congressistas estadunidenses incluindo enviar...   \n",
       "5     2018-07-30 23:12:04   dias passaram matou marielle mandou matar mar...   \n",
       "6     2018-07-30 22:28:50   dias meses dias dias marielle franco matou ma...   \n",
       "7     2018-07-30 22:09:14  cadê bocas gamela ficavam gritando mariellepre...   \n",
       "8     2018-07-30 20:00:48   hoje marielle completaria anos idade pergunta...   \n",
       "9     2018-07-30 19:45:30   dias meses dias dias marielle franco matou ma...   \n",
       "10    2018-07-30 19:42:44   dias meses dias dias marielle franco matou ma...   \n",
       "11    2018-07-30 19:21:53   povo rua contra psdbpatriaespancadora temer a...   \n",
       "12    2018-07-30 18:57:19   dias matou marielle anderson mandou matar mar...   \n",
       "13    2018-07-30 18:48:55   povo rua contra psdbpatriaespancadora temer a...   \n",
       "14    2018-07-30 17:33:41   marcha lado mulheres negras respeito admiro d...   \n",
       "15    2018-07-30 14:40:23  jornal uruguaio quemmatoumarielle quemmandouma...   \n",
       "16    2018-07-30 14:19:37   dias meses dias dias marielle franco matou ma...   \n",
       "17    2018-07-30 13:47:22   manuaovivo quando dizemos lulalivre mariellep...   \n",
       "18    2018-07-30 13:43:36  ouvi mt isso quemmatoumarielle é moda daqui po...   \n",
       "19    2018-07-30 13:06:39   feliz aniversário marielle ainda aguardamos j...   \n",
       "20    2018-07-30 12:24:30  matou marielle mandou matar marielle família m...   \n",
       "21    2018-07-30 12:20:12  ontem dia marcha mulheres negras rio pela vida...   \n",
       "22    2018-07-30 11:53:34                        mariellepresente rivalzinho   \n",
       "23    2018-07-30 11:33:27   dias passaram matou marielle mandou matar mar...   \n",
       "24    2018-07-30 11:07:31   dias passaram matou marielle mandou matar mar...   \n",
       "25    2018-07-30 10:59:43  pra registrar fim julho inspirações pro início...   \n",
       "26    2018-07-30 10:53:36   enfiemaspanelasnocu toda rede corrupção aprov...   \n",
       "27    2018-07-30 10:49:36  matou mandou matar marielle anderson dias resp...   \n",
       "28    2018-07-30 10:37:24   enfiemaspanelasnocu toda rede corrupção aprov...   \n",
       "29    2018-07-30 10:30:52   dias passaram matou marielle mandou matar mar...   \n",
       "...                   ...                                                ...   \n",
       "1604  2018-07-21 03:30:42   boa noite galera lulalivre lulapresidente que...   \n",
       "1605  2018-07-21 03:27:05   boa noite galera lulalivre lulapresidente que...   \n",
       "1606  2018-07-21 03:20:44   boa noite galera lulalivre lulapresidente que...   \n",
       "1607  2018-07-21 02:47:21   ministro nega hc investigado morte mariellefr...   \n",
       "1608  2018-07-21 02:45:51  retweeted rê boa noite galera lulalivre lulapr...   \n",
       "1609  2018-07-21 02:45:38   boa noite galera lulalivre lulapresidente que...   \n",
       "1610  2018-07-21 02:44:16   boa noite galera lulalivre lulapresidente que...   \n",
       "1611  2018-07-21 02:31:18   boa noite galera lulalivre lulapresidente que...   \n",
       "1612  2018-07-21 02:13:17          meses mariellefranco hoje matou marielle    \n",
       "1613  2018-07-21 02:12:50   boa noite galera lulalivre lulapresidente que...   \n",
       "1614  2018-07-21 02:11:35   boa noite galera lulalivre lulapresidente que...   \n",
       "1615  2018-07-21 02:09:48   boa noite galera lulalivre lulapresidente que...   \n",
       "1616  2018-07-21 02:07:36   boa noite galera lulalivre lulapresidente que...   \n",
       "1617  2018-07-21 02:05:09   boa noite galera lulalivre lulapresidente que...   \n",
       "1618  2018-07-21 02:05:01   boa noite galera lulalivre lulapresidente que...   \n",
       "1619  2018-07-21 02:00:26   boa noite galera lulalivre lulapresidente que...   \n",
       "1620  2018-07-21 01:57:33   boa noite galera lulalivre lulapresidente que...   \n",
       "1621  2018-07-21 01:42:41  boa noite galera lulalivre lulapresidente quem...   \n",
       "1622  2018-07-21 01:37:31   quatro meses marielle precisamos milhão marie...   \n",
       "1623  2018-07-21 01:23:02   rio lei cria dia marielle franco contra genoc...   \n",
       "1624  2018-07-21 01:22:45  abraço desejo feliz dia amizade pras irmãs pre...   \n",
       "1625  2018-07-21 00:58:17   quatro meses marielle precisamos milhão marie...   \n",
       "1626  2018-07-21 00:54:10   quatro meses marielle precisamos milhão marie...   \n",
       "1627  2018-07-21 00:48:20   tanta gente questionando quê mobilizaçãopelo ...   \n",
       "1628  2018-07-20 23:53:35   dias presidente interventor segurança pública...   \n",
       "1629  2018-07-20 23:51:20                    dias respostas mariellepresente   \n",
       "1630  2018-07-20 23:40:48   outras ameaças externas listadas intervenção ...   \n",
       "1631  2018-07-20 23:38:31   stj nega pedido transferência preso suspeito ...   \n",
       "1632  2018-07-20 23:30:31   dias presidente interventor segurança pública...   \n",
       "1633  2018-07-20 23:13:51                    dias respostas mariellepresente   \n",
       "\n",
       "     sentiment  \n",
       "0            1  \n",
       "1            1  \n",
       "2            1  \n",
       "3            1  \n",
       "4          NaN  \n",
       "5            1  \n",
       "6            1  \n",
       "7            0  \n",
       "8            1  \n",
       "9            1  \n",
       "10           1  \n",
       "11         NaN  \n",
       "12           1  \n",
       "13         NaN  \n",
       "14           1  \n",
       "15         NaN  \n",
       "16           1  \n",
       "17           1  \n",
       "18           0  \n",
       "19           1  \n",
       "20           1  \n",
       "21           1  \n",
       "22         NaN  \n",
       "23           1  \n",
       "24           1  \n",
       "25         NaN  \n",
       "26         NaN  \n",
       "27           1  \n",
       "28         NaN  \n",
       "29           1  \n",
       "...        ...  \n",
       "1604       NaN  \n",
       "1605       NaN  \n",
       "1606       NaN  \n",
       "1607       NaN  \n",
       "1608       NaN  \n",
       "1609       NaN  \n",
       "1610       NaN  \n",
       "1611       NaN  \n",
       "1612       NaN  \n",
       "1613       NaN  \n",
       "1614       NaN  \n",
       "1615       NaN  \n",
       "1616       NaN  \n",
       "1617       NaN  \n",
       "1618       NaN  \n",
       "1619       NaN  \n",
       "1620       NaN  \n",
       "1621       NaN  \n",
       "1622       NaN  \n",
       "1623       NaN  \n",
       "1624       NaN  \n",
       "1625       NaN  \n",
       "1626       NaN  \n",
       "1627       NaN  \n",
       "1628       NaN  \n",
       "1629       NaN  \n",
       "1630       NaN  \n",
       "1631       NaN  \n",
       "1632       NaN  \n",
       "1633       NaN  \n",
       "\n",
       "[1634 rows x 3 columns]"
      ]
     },
     "execution_count": 255,
     "metadata": {},
     "output_type": "execute_result"
    }
   ],
   "source": [
    "marielle_tweets"
   ]
  },
  {
   "cell_type": "code",
   "execution_count": 271,
   "metadata": {},
   "outputs": [],
   "source": [
    "marielle_tweets_freq = vectorizer.transform(marielle_tweets.text)\n",
    "\n",
    "marielle_predict = modelo.predict(marielle_tweets_freq)"
   ]
  },
  {
   "cell_type": "code",
   "execution_count": 272,
   "metadata": {
    "scrolled": true
   },
   "outputs": [],
   "source": [
    "marielle_tweets['predicted'] = marielle_predict"
   ]
  },
  {
   "cell_type": "code",
   "execution_count": 288,
   "metadata": {},
   "outputs": [],
   "source": [
    "marielle_t_class = marielle_tweets.copy()\n",
    "marielle_t_class.dropna(inplace=True)\n",
    "marielle_t_class.predicted = marielle_t_class.predicted.apply(name_to_sentiment)"
   ]
  },
  {
   "cell_type": "code",
   "execution_count": 294,
   "metadata": {},
   "outputs": [],
   "source": [
    "marielle_class_freq = vectorizer.transform(marielle_t_class.text)\n"
   ]
  },
  {
   "cell_type": "code",
   "execution_count": 292,
   "metadata": {
    "scrolled": true
   },
   "outputs": [
    {
     "data": {
      "text/plain": [
       "(66, 4)"
      ]
     },
     "execution_count": 292,
     "metadata": {},
     "output_type": "execute_result"
    }
   ],
   "source": [
    "not_match = marielle_t_class[marielle_t_class[\"sentiment\"] != marielle_t_class[\"predicted\"]]\n",
    "not_match.shape"
   ]
  },
  {
   "cell_type": "code",
   "execution_count": 293,
   "metadata": {},
   "outputs": [
    {
     "data": {
      "text/plain": [
       "(24, 4)"
      ]
     },
     "execution_count": 293,
     "metadata": {},
     "output_type": "execute_result"
    }
   ],
   "source": [
    "match = marielle_t_class[marielle_t_class[\"sentiment\"] == marielle_t_class[\"predicted\"]]\n",
    "match.shape"
   ]
  },
  {
   "cell_type": "code",
   "execution_count": 295,
   "metadata": {
    "scrolled": true
   },
   "outputs": [
    {
     "name": "stderr",
     "output_type": "stream",
     "text": [
      "/usr/local/lib/python3.6/dist-packages/sklearn/model_selection/_split.py:605: Warning: The least populated class in y has only 1 members, which is too few. The minimum number of members in any class cannot be less than n_splits=10.\n",
      "  % (min_groups, self.n_splits)), Warning)\n"
     ]
    },
    {
     "data": {
      "text/plain": [
       "0.8222222222222222"
      ]
     },
     "execution_count": 295,
     "metadata": {},
     "output_type": "execute_result"
    }
   ],
   "source": [
    "resultados = cross_val_predict(modelo, marielle_class_freq, marielle_t_class.sentiment, cv = 10)\n",
    "metrics.accuracy_score(marielle_t_class.sentiment, resultados)"
   ]
  },
  {
   "cell_type": "code",
   "execution_count": 299,
   "metadata": {},
   "outputs": [
    {
     "name": "stdout",
     "output_type": "stream",
     "text": [
      "             precision    recall  f1-score   support\n",
      "\n",
      "          1       0.80      1.00      0.89        59\n",
      "          0       0.92      0.48      0.63        25\n",
      "\n",
      "avg / total       0.83      0.85      0.81        84\n",
      "\n"
     ]
    }
   ],
   "source": [
    "sentimentos = [\"1\", \"0\"]\n",
    "print(metrics.classification_report(marielle_t_class.sentiment, resultados, sentimentos))"
   ]
  }
 ],
 "metadata": {
  "kernelspec": {
   "display_name": "Python 3",
   "language": "python",
   "name": "python3"
  },
  "language_info": {
   "codemirror_mode": {
    "name": "ipython",
    "version": 3
   },
   "file_extension": ".py",
   "mimetype": "text/x-python",
   "name": "python",
   "nbconvert_exporter": "python",
   "pygments_lexer": "ipython3",
   "version": "3.6.5"
  }
 },
 "nbformat": 4,
 "nbformat_minor": 2
}
