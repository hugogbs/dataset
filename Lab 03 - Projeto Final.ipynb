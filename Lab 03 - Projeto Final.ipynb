{
 "cells": [
  {
   "cell_type": "markdown",
   "metadata": {},
   "source": [
    "# Análise de Sentimentos do Twitter\n",
    "### Hugo Gabriel Bezerra da Silva\n",
    "\n",
    "Essa atividade tem como objetivo treinar um modelo para classificar tweets em positivos e negativos com base no texto desses tweets.\n",
    "\n",
    "O modelo foi treinado com um conjunto de quase 26 mil tweets classificados da seguinte forma:\n",
    "\n",
    "* Se texto contém **:)** então o tweet é Positivo\n",
    "* Se texto contém **):** então o tweet é Negativo\n",
    "\n",
    "Tendo esse modelo treinado, ele será aplicado em novos tweets. Para compor a base de teste foram coletados mais de 1600 tweets contendo pelo menos uma das seguntes hashtags:\n",
    "\n",
    "* #mariellefranco \n",
    "* #MariellePresente \n",
    "* #QuemMatouMarielle\n",
    "\n",
    "Como podemos ver o assunto de interesse nesse caso é o assassinato da socióloga, feminista, defensora dos direitos humanos e política brasileira **Marielle Franco** que foi executada, junto com o motorista Anderson Pedro Mathias Gomes, em 14 de março de 2018 em um crime político que chocou o Brasil e o Mundo e paira até hoje sem respostas conclusivas."
   ]
  },
  {
   "cell_type": "code",
   "execution_count": 1,
   "metadata": {},
   "outputs": [],
   "source": [
    "import nltk\n",
    "import re\n",
    "import pandas as pd\n",
    "from sklearn.feature_extraction.text import CountVectorizer\n",
    "from sklearn.naive_bayes import MultinomialNB\n",
    "from sklearn import metrics\n",
    "from sklearn.model_selection import cross_val_predict"
   ]
  },
  {
   "cell_type": "markdown",
   "metadata": {},
   "source": [
    "### Dados de Treino\n",
    "\n",
    "Como dito, contamos com aproximadamente 26 mil tweets para treino. Vale lembrar que foram removidas observações NA dos dados além de alguns passos de tratamento nos dados. "
   ]
  },
  {
   "cell_type": "code",
   "execution_count": 2,
   "metadata": {
    "scrolled": true
   },
   "outputs": [
    {
     "data": {
      "text/plain": [
       "(25911, 4)"
      ]
     },
     "execution_count": 2,
     "metadata": {},
     "output_type": "execute_result"
    }
   ],
   "source": [
    "tweets = pd.read_csv(\"tweets.csv\", encoding='utf-8')\n",
    "tweets.shape"
   ]
  },
  {
   "cell_type": "code",
   "execution_count": 3,
   "metadata": {
    "scrolled": true
   },
   "outputs": [
    {
     "data": {
      "text/plain": [
       "(25905, 3)"
      ]
     },
     "execution_count": 3,
     "metadata": {},
     "output_type": "execute_result"
    }
   ],
   "source": [
    "# Remove NaN's\n",
    "tweets.dropna(inplace=True)\n",
    "\n",
    "# Remove coluna desnecessária\n",
    "tweets = tweets.drop(columns=['id2'])\n",
    "tweets.shape"
   ]
  },
  {
   "cell_type": "markdown",
   "metadata": {},
   "source": [
    "### Tratamento dos Dados\n",
    "\n",
    "A seguir temos um conjunto de funções que é responsável por fornecer os dados de forma mais \"limpa\" para o treino do modelo.\n",
    "\n",
    "São removidos *stopwords* (artigos, preposições e etc.), *links*, menções, identificadores de retweet e caracteres especiais.\n",
    "\n",
    "Além dísso a categoria do sentimento que é dada como 0 ou 1 é transformada para Negativo e Positivo."
   ]
  },
  {
   "cell_type": "code",
   "execution_count": 4,
   "metadata": {},
   "outputs": [],
   "source": [
    "def remove_stopwords(text):\n",
    "    stopwords = set(nltk.corpus.stopwords.words('portuguese'))\n",
    "    words = [i for i in text.split() if not i in stopwords]\n",
    "    return (\" \".join(words))\n",
    "\n",
    "def remove_links(text):\n",
    "    return re.sub(r\"http\\S+\", \"\", text)\n",
    "\n",
    "def remove_mentions(text):\n",
    "    return re.sub(r\"@\\w+\", \"\", text)\n",
    "\n",
    "def remove_retweets(text):\n",
    "    return re.sub(r\"rt\\s\", \"\", text)\n",
    "\n",
    "def remove_special_chars(text):\n",
    "    text = re.sub(r'[^\\w\\s]', ' ', text)\n",
    "    text = re.sub(r\"$\\d+\\W+|\\b\\d+\\b|\\W+\\d+$\", \"\", text)\n",
    "    text_with_no_special_chars = re.sub(\"\\s+\", \" \", text)\n",
    "    return text_with_no_special_chars\n",
    "\n",
    "def standardize_text(text):\n",
    "    text = text.lower()\n",
    "    text = remove_links(text)\n",
    "    text = remove_mentions(text)\n",
    "    text = remove_retweets(text)\n",
    "    text = remove_stopwords(text)\n",
    "    text = remove_special_chars(text)\n",
    "    return text\n",
    "def sentiment_to_name(n):\n",
    "    if n == 0 or n == \"0\":\n",
    "        n = 'Negativo'\n",
    "    elif n == 1 or n == \"1\":\n",
    "        n = 'Positivo'\n",
    "    return n"
   ]
  },
  {
   "cell_type": "markdown",
   "metadata": {},
   "source": [
    "Os dados sem a padronização são:"
   ]
  },
  {
   "cell_type": "code",
   "execution_count": 5,
   "metadata": {},
   "outputs": [
    {
     "data": {
      "text/html": [
       "<div>\n",
       "<style scoped>\n",
       "    .dataframe tbody tr th:only-of-type {\n",
       "        vertical-align: middle;\n",
       "    }\n",
       "\n",
       "    .dataframe tbody tr th {\n",
       "        vertical-align: top;\n",
       "    }\n",
       "\n",
       "    .dataframe thead th {\n",
       "        text-align: right;\n",
       "    }\n",
       "</style>\n",
       "<table border=\"1\" class=\"dataframe\">\n",
       "  <thead>\n",
       "    <tr style=\"text-align: right;\">\n",
       "      <th></th>\n",
       "      <th>id</th>\n",
       "      <th>text</th>\n",
       "      <th>sentiment</th>\n",
       "    </tr>\n",
       "  </thead>\n",
       "  <tbody>\n",
       "    <tr>\n",
       "      <th>0</th>\n",
       "      <td>7895</td>\n",
       "      <td>Hoje tem vídeo abrindo 65 emp :)</td>\n",
       "      <td>1.0</td>\n",
       "    </tr>\n",
       "    <tr>\n",
       "      <th>1</th>\n",
       "      <td>7965</td>\n",
       "      <td>Passar a tarde a estudar olha q bonito :)</td>\n",
       "      <td>1.0</td>\n",
       "    </tr>\n",
       "    <tr>\n",
       "      <th>2</th>\n",
       "      <td>3610</td>\n",
       "      <td>Tava uma gaja no torneio, ai que filha da puta...</td>\n",
       "      <td>1.0</td>\n",
       "    </tr>\n",
       "    <tr>\n",
       "      <th>3</th>\n",
       "      <td>1139</td>\n",
       "      <td>Chateadissima com a eliminação da Red Canids :...</td>\n",
       "      <td>0.0</td>\n",
       "    </tr>\n",
       "    <tr>\n",
       "      <th>4</th>\n",
       "      <td>7386</td>\n",
       "      <td>Tô pensando em fazer uma colinha só que a prof...</td>\n",
       "      <td>0.0</td>\n",
       "    </tr>\n",
       "  </tbody>\n",
       "</table>\n",
       "</div>"
      ],
      "text/plain": [
       "     id                                               text  sentiment\n",
       "0  7895                   Hoje tem vídeo abrindo 65 emp :)        1.0\n",
       "1  7965          Passar a tarde a estudar olha q bonito :)        1.0\n",
       "2  3610  Tava uma gaja no torneio, ai que filha da puta...        1.0\n",
       "3  1139  Chateadissima com a eliminação da Red Canids :...        0.0\n",
       "4  7386  Tô pensando em fazer uma colinha só que a prof...        0.0"
      ]
     },
     "execution_count": 5,
     "metadata": {},
     "output_type": "execute_result"
    }
   ],
   "source": [
    "tweets.head()"
   ]
  },
  {
   "cell_type": "markdown",
   "metadata": {},
   "source": [
    "Já com a padronização os dados são:"
   ]
  },
  {
   "cell_type": "code",
   "execution_count": 6,
   "metadata": {},
   "outputs": [
    {
     "data": {
      "text/html": [
       "<div>\n",
       "<style scoped>\n",
       "    .dataframe tbody tr th:only-of-type {\n",
       "        vertical-align: middle;\n",
       "    }\n",
       "\n",
       "    .dataframe tbody tr th {\n",
       "        vertical-align: top;\n",
       "    }\n",
       "\n",
       "    .dataframe thead th {\n",
       "        text-align: right;\n",
       "    }\n",
       "</style>\n",
       "<table border=\"1\" class=\"dataframe\">\n",
       "  <thead>\n",
       "    <tr style=\"text-align: right;\">\n",
       "      <th></th>\n",
       "      <th>id</th>\n",
       "      <th>text</th>\n",
       "      <th>sentiment</th>\n",
       "    </tr>\n",
       "  </thead>\n",
       "  <tbody>\n",
       "    <tr>\n",
       "      <th>0</th>\n",
       "      <td>7895</td>\n",
       "      <td>hoje vídeo abrindo emp</td>\n",
       "      <td>Positivo</td>\n",
       "    </tr>\n",
       "    <tr>\n",
       "      <th>1</th>\n",
       "      <td>7965</td>\n",
       "      <td>passar tarde estudar olha q bonito</td>\n",
       "      <td>Positivo</td>\n",
       "    </tr>\n",
       "    <tr>\n",
       "      <th>2</th>\n",
       "      <td>3610</td>\n",
       "      <td>tava gaja torneio ai filha puta ainda tentei a...</td>\n",
       "      <td>Positivo</td>\n",
       "    </tr>\n",
       "    <tr>\n",
       "      <th>3</th>\n",
       "      <td>1139</td>\n",
       "      <td>chateadissima eliminação red canids diria sent...</td>\n",
       "      <td>Negativo</td>\n",
       "    </tr>\n",
       "    <tr>\n",
       "      <th>4</th>\n",
       "      <td>7386</td>\n",
       "      <td>tô pensando fazer colinha professora é esperta</td>\n",
       "      <td>Negativo</td>\n",
       "    </tr>\n",
       "  </tbody>\n",
       "</table>\n",
       "</div>"
      ],
      "text/plain": [
       "     id                                               text sentiment\n",
       "0  7895                            hoje vídeo abrindo emp   Positivo\n",
       "1  7965                passar tarde estudar olha q bonito   Positivo\n",
       "2  3610  tava gaja torneio ai filha puta ainda tentei a...  Positivo\n",
       "3  1139  chateadissima eliminação red canids diria sent...  Negativo\n",
       "4  7386    tô pensando fazer colinha professora é esperta   Negativo"
      ]
     },
     "execution_count": 6,
     "metadata": {},
     "output_type": "execute_result"
    }
   ],
   "source": [
    "tweets.text = tweets.text.apply(standardize_text)\n",
    "tweets.sentiment = tweets.sentiment.apply(sentiment_to_name)\n",
    "tweets.head()"
   ]
  },
  {
   "cell_type": "markdown",
   "metadata": {},
   "source": [
    "### Modelo\n",
    "\n",
    "Para construir o modelo estamos considerando as palavras isoladas e também as bigramas. Usamos também o Bag of Words na nossa representação, nesse tipo de representação não estamos preocupados com a ordem que os termos (palavras) aparecem no documento (no caso tweet), mas sim se um tweets contém uma certa palavra e em que quantidade.\n",
    "\n",
    "Utilizaremos uma **Rede Bayesiana** visto que esse tipo de classificador costuma ter um bom desempenho na classificação de texto. "
   ]
  },
  {
   "cell_type": "code",
   "execution_count": 7,
   "metadata": {
    "scrolled": true
   },
   "outputs": [],
   "source": [
    "tweets_text = tweets[\"text\"].values\n",
    "classes = tweets['sentiment'].values"
   ]
  },
  {
   "cell_type": "code",
   "execution_count": 8,
   "metadata": {
    "scrolled": true
   },
   "outputs": [
    {
     "data": {
      "text/plain": [
       "MultinomialNB(alpha=1.0, class_prior=None, fit_prior=True)"
      ]
     },
     "execution_count": 8,
     "metadata": {},
     "output_type": "execute_result"
    }
   ],
   "source": [
    "vectorizer = CountVectorizer(ngram_range = (1, 2))\n",
    "freq_tweets = vectorizer.fit_transform(tweets_text)\n",
    "\n",
    "modelo = MultinomialNB()\n",
    "modelo.fit(freq_tweets, classes)"
   ]
  },
  {
   "cell_type": "markdown",
   "metadata": {},
   "source": [
    "### Resultados do Modelo - Treino\n",
    "\n",
    "Veremos o desempenho do modelo sobre os dados de treino, segundo as métricas:\n",
    "\n",
    "* Accuracy\n",
    "* Precision\n",
    "* Recall\n",
    "* F1-Score"
   ]
  },
  {
   "cell_type": "code",
   "execution_count": 9,
   "metadata": {},
   "outputs": [],
   "source": [
    "resultados = cross_val_predict(modelo, freq_tweets, classes, cv = 10)"
   ]
  },
  {
   "cell_type": "code",
   "execution_count": 10,
   "metadata": {},
   "outputs": [
    {
     "name": "stdout",
     "output_type": "stream",
     "text": [
      "A acurácia do modelo é 0.77 nos dados de treino.\n"
     ]
    }
   ],
   "source": [
    "print(\"A acurácia do modelo é %.2f nos dados de treino.\" % metrics.accuracy_score(classes, resultados))"
   ]
  },
  {
   "cell_type": "code",
   "execution_count": 11,
   "metadata": {},
   "outputs": [
    {
     "name": "stdout",
     "output_type": "stream",
     "text": [
      "O quadro abaixo mostra os valores de precision, recall e f1-score para os dados de treino\n",
      "\n",
      "             precision    recall  f1-score   support\n",
      "\n",
      "   Positivo       0.69      0.57      0.62      8703\n",
      "   Negativo       0.80      0.87      0.83     17202\n",
      "\n",
      "avg / total       0.76      0.77      0.76     25905\n",
      "\n"
     ]
    }
   ],
   "source": [
    "sentimentos = [\"Positivo\", \"Negativo\"]\n",
    "print(\"O quadro abaixo mostra os valores de precision, recall e f1-score para os dados de treino\\n\")\n",
    "print(metrics.classification_report(classes, resultados, sentimentos))"
   ]
  },
  {
   "cell_type": "code",
   "execution_count": 12,
   "metadata": {},
   "outputs": [],
   "source": [
    "freq = vectorizer.transform(tweets.text)\n",
    "predict_tweets = modelo.predict(freq)"
   ]
  },
  {
   "cell_type": "code",
   "execution_count": 13,
   "metadata": {
    "scrolled": false
   },
   "outputs": [
    {
     "data": {
      "text/html": [
       "<div>\n",
       "<style scoped>\n",
       "    .dataframe tbody tr th:only-of-type {\n",
       "        vertical-align: middle;\n",
       "    }\n",
       "\n",
       "    .dataframe tbody tr th {\n",
       "        vertical-align: top;\n",
       "    }\n",
       "\n",
       "    .dataframe thead th {\n",
       "        text-align: right;\n",
       "    }\n",
       "</style>\n",
       "<table border=\"1\" class=\"dataframe\">\n",
       "  <thead>\n",
       "    <tr style=\"text-align: right;\">\n",
       "      <th></th>\n",
       "      <th>id</th>\n",
       "      <th>text</th>\n",
       "      <th>sentiment</th>\n",
       "      <th>predicted</th>\n",
       "    </tr>\n",
       "  </thead>\n",
       "  <tbody>\n",
       "    <tr>\n",
       "      <th>0</th>\n",
       "      <td>7895</td>\n",
       "      <td>hoje vídeo abrindo emp</td>\n",
       "      <td>Positivo</td>\n",
       "      <td>Positivo</td>\n",
       "    </tr>\n",
       "    <tr>\n",
       "      <th>1</th>\n",
       "      <td>7965</td>\n",
       "      <td>passar tarde estudar olha q bonito</td>\n",
       "      <td>Positivo</td>\n",
       "      <td>Positivo</td>\n",
       "    </tr>\n",
       "    <tr>\n",
       "      <th>2</th>\n",
       "      <td>3610</td>\n",
       "      <td>tava gaja torneio ai filha puta ainda tentei a...</td>\n",
       "      <td>Positivo</td>\n",
       "      <td>Positivo</td>\n",
       "    </tr>\n",
       "    <tr>\n",
       "      <th>3</th>\n",
       "      <td>1139</td>\n",
       "      <td>chateadissima eliminação red canids diria sent...</td>\n",
       "      <td>Negativo</td>\n",
       "      <td>Negativo</td>\n",
       "    </tr>\n",
       "    <tr>\n",
       "      <th>4</th>\n",
       "      <td>7386</td>\n",
       "      <td>tô pensando fazer colinha professora é esperta</td>\n",
       "      <td>Negativo</td>\n",
       "      <td>Negativo</td>\n",
       "    </tr>\n",
       "  </tbody>\n",
       "</table>\n",
       "</div>"
      ],
      "text/plain": [
       "     id                                               text sentiment predicted\n",
       "0  7895                            hoje vídeo abrindo emp   Positivo  Positivo\n",
       "1  7965                passar tarde estudar olha q bonito   Positivo  Positivo\n",
       "2  3610  tava gaja torneio ai filha puta ainda tentei a...  Positivo  Positivo\n",
       "3  1139  chateadissima eliminação red canids diria sent...  Negativo  Negativo\n",
       "4  7386    tô pensando fazer colinha professora é esperta   Negativo  Negativo"
      ]
     },
     "execution_count": 13,
     "metadata": {},
     "output_type": "execute_result"
    }
   ],
   "source": [
    "tweets['predicted'] = predict_tweets\n",
    "tweets.head()"
   ]
  },
  {
   "cell_type": "code",
   "execution_count": 14,
   "metadata": {},
   "outputs": [
    {
     "name": "stdout",
     "output_type": "stream",
     "text": [
      "Nos dados de teste temos:\n",
      "16971 verdadeiros negativos\n",
      "231 falsos positivos\n",
      "1171 falsos negativos e \n",
      "7532 verdadeiros positivos\n"
     ]
    }
   ],
   "source": [
    "tn, fp, fn, tp = metrics.confusion_matrix(tweets['sentiment'], tweets['predicted']).ravel()\n",
    "print(\"Nos dados de teste temos:\\n%d verdadeiros negativos\\n%d falsos positivos\\n%d falsos negativos e \\n%d verdadeiros positivos\" % (tn, fp, fn, tp))"
   ]
  },
  {
   "cell_type": "markdown",
   "metadata": {},
   "source": [
    "### Resultados do Modelo - Teste\n",
    "\n",
    "Aqui usaremos tweets relativos ao assassinado da vereadora Marielle Franco, são mais de 1600 tweets, para podermos calcular as mesmas métricas calculadas para o treino, 84 tweets foram manualmente classificados em positivos e negativos.\n",
    "\n",
    "Os dados de teste passaram pelo mesmo processo de padronização que os de treino."
   ]
  },
  {
   "cell_type": "code",
   "execution_count": 15,
   "metadata": {
    "scrolled": false
   },
   "outputs": [
    {
     "data": {
      "text/html": [
       "<div>\n",
       "<style scoped>\n",
       "    .dataframe tbody tr th:only-of-type {\n",
       "        vertical-align: middle;\n",
       "    }\n",
       "\n",
       "    .dataframe tbody tr th {\n",
       "        vertical-align: top;\n",
       "    }\n",
       "\n",
       "    .dataframe thead th {\n",
       "        text-align: right;\n",
       "    }\n",
       "</style>\n",
       "<table border=\"1\" class=\"dataframe\">\n",
       "  <thead>\n",
       "    <tr style=\"text-align: right;\">\n",
       "      <th></th>\n",
       "      <th>date</th>\n",
       "      <th>text</th>\n",
       "      <th>sentiment</th>\n",
       "    </tr>\n",
       "  </thead>\n",
       "  <tbody>\n",
       "    <tr>\n",
       "      <th>0</th>\n",
       "      <td>2018-07-30 23:40:15</td>\n",
       "      <td>RT @joaoassi2: #mariellepresente, não só quand...</td>\n",
       "      <td>1</td>\n",
       "    </tr>\n",
       "    <tr>\n",
       "      <th>1</th>\n",
       "      <td>2018-07-30 23:31:31</td>\n",
       "      <td>RT @joaoassi2: #mariellepresente, não só quand...</td>\n",
       "      <td>1</td>\n",
       "    </tr>\n",
       "    <tr>\n",
       "      <th>2</th>\n",
       "      <td>2018-07-30 23:30:52</td>\n",
       "      <td>#mariellepresente, não só quando convém! https...</td>\n",
       "      <td>1</td>\n",
       "    </tr>\n",
       "    <tr>\n",
       "      <th>3</th>\n",
       "      <td>2018-07-30 23:14:22</td>\n",
       "      <td>RT @abdalafarah: Hoje Marielle Franco completa...</td>\n",
       "      <td>1</td>\n",
       "    </tr>\n",
       "    <tr>\n",
       "      <th>4</th>\n",
       "      <td>2018-07-30 23:12:12</td>\n",
       "      <td>RT @alinecpiva: 29 congressistas estadunidense...</td>\n",
       "      <td>NaN</td>\n",
       "    </tr>\n",
       "  </tbody>\n",
       "</table>\n",
       "</div>"
      ],
      "text/plain": [
       "                  date                                               text  \\\n",
       "0  2018-07-30 23:40:15  RT @joaoassi2: #mariellepresente, não só quand...   \n",
       "1  2018-07-30 23:31:31  RT @joaoassi2: #mariellepresente, não só quand...   \n",
       "2  2018-07-30 23:30:52  #mariellepresente, não só quando convém! https...   \n",
       "3  2018-07-30 23:14:22  RT @abdalafarah: Hoje Marielle Franco completa...   \n",
       "4  2018-07-30 23:12:12  RT @alinecpiva: 29 congressistas estadunidense...   \n",
       "\n",
       "  sentiment  \n",
       "0         1  \n",
       "1         1  \n",
       "2         1  \n",
       "3         1  \n",
       "4       NaN  "
      ]
     },
     "execution_count": 15,
     "metadata": {},
     "output_type": "execute_result"
    }
   ],
   "source": [
    "marielle_tweets = pd.read_csv(\"marielle_tweets.csv\", encoding='utf-8').dropna(subset=['text'])\n",
    "marielle_tweets.head()"
   ]
  },
  {
   "cell_type": "code",
   "execution_count": 16,
   "metadata": {},
   "outputs": [
    {
     "data": {
      "text/plain": [
       "(1634, 3)"
      ]
     },
     "execution_count": 16,
     "metadata": {},
     "output_type": "execute_result"
    }
   ],
   "source": [
    "marielle_tweets.shape"
   ]
  },
  {
   "cell_type": "markdown",
   "metadata": {},
   "source": [
    "Com a padronização os dados tem a seguinte aparência:"
   ]
  },
  {
   "cell_type": "code",
   "execution_count": 17,
   "metadata": {},
   "outputs": [
    {
     "data": {
      "text/html": [
       "<div>\n",
       "<style scoped>\n",
       "    .dataframe tbody tr th:only-of-type {\n",
       "        vertical-align: middle;\n",
       "    }\n",
       "\n",
       "    .dataframe tbody tr th {\n",
       "        vertical-align: top;\n",
       "    }\n",
       "\n",
       "    .dataframe thead th {\n",
       "        text-align: right;\n",
       "    }\n",
       "</style>\n",
       "<table border=\"1\" class=\"dataframe\">\n",
       "  <thead>\n",
       "    <tr style=\"text-align: right;\">\n",
       "      <th></th>\n",
       "      <th>date</th>\n",
       "      <th>text</th>\n",
       "      <th>sentiment</th>\n",
       "    </tr>\n",
       "  </thead>\n",
       "  <tbody>\n",
       "    <tr>\n",
       "      <th>0</th>\n",
       "      <td>2018-07-30 23:40:15</td>\n",
       "      <td>mariellepresente convém</td>\n",
       "      <td>Positivo</td>\n",
       "    </tr>\n",
       "    <tr>\n",
       "      <th>1</th>\n",
       "      <td>2018-07-30 23:31:31</td>\n",
       "      <td>mariellepresente convém</td>\n",
       "      <td>Positivo</td>\n",
       "    </tr>\n",
       "    <tr>\n",
       "      <th>2</th>\n",
       "      <td>2018-07-30 23:30:52</td>\n",
       "      <td>mariellepresente convém</td>\n",
       "      <td>Positivo</td>\n",
       "    </tr>\n",
       "    <tr>\n",
       "      <th>3</th>\n",
       "      <td>2018-07-30 23:14:22</td>\n",
       "      <td>hoje marielle franco completaria anos idade v...</td>\n",
       "      <td>Positivo</td>\n",
       "    </tr>\n",
       "    <tr>\n",
       "      <th>4</th>\n",
       "      <td>2018-07-30 23:12:12</td>\n",
       "      <td>congressistas estadunidenses incluindo enviar...</td>\n",
       "      <td>NaN</td>\n",
       "    </tr>\n",
       "  </tbody>\n",
       "</table>\n",
       "</div>"
      ],
      "text/plain": [
       "                  date                                               text  \\\n",
       "0  2018-07-30 23:40:15                           mariellepresente convém    \n",
       "1  2018-07-30 23:31:31                           mariellepresente convém    \n",
       "2  2018-07-30 23:30:52                           mariellepresente convém    \n",
       "3  2018-07-30 23:14:22   hoje marielle franco completaria anos idade v...   \n",
       "4  2018-07-30 23:12:12   congressistas estadunidenses incluindo enviar...   \n",
       "\n",
       "  sentiment  \n",
       "0  Positivo  \n",
       "1  Positivo  \n",
       "2  Positivo  \n",
       "3  Positivo  \n",
       "4       NaN  "
      ]
     },
     "execution_count": 17,
     "metadata": {},
     "output_type": "execute_result"
    }
   ],
   "source": [
    "marielle_tweets.text = marielle_tweets.text.apply(standardize_text)\n",
    "marielle_tweets.sentiment = marielle_tweets.sentiment.apply(sentiment_to_name)\n",
    "\n",
    "marielle_tweets.head()"
   ]
  },
  {
   "cell_type": "code",
   "execution_count": 18,
   "metadata": {},
   "outputs": [],
   "source": [
    "marielle_tweets_freq = vectorizer.transform(marielle_tweets.text)\n",
    "marielle_predict = modelo.predict(marielle_tweets_freq)"
   ]
  },
  {
   "cell_type": "code",
   "execution_count": 19,
   "metadata": {
    "scrolled": true
   },
   "outputs": [],
   "source": [
    "marielle_tweets['predicted'] = marielle_predict"
   ]
  },
  {
   "cell_type": "markdown",
   "metadata": {},
   "source": [
    "Em função de alguns erros de formatação nos dados de treino, um tratamento especial deverá ser aplicado para remover as observações mal formatadas"
   ]
  },
  {
   "cell_type": "code",
   "execution_count": 20,
   "metadata": {},
   "outputs": [],
   "source": [
    "marielle_t_class = marielle_tweets.copy()\n",
    "marielle_t_class= marielle_t_class[(marielle_t_class.sentiment == \"Positivo\") | (marielle_t_class.sentiment == \"Negativo\")]\n",
    "marielle_t_class.dropna(inplace=True)"
   ]
  },
  {
   "cell_type": "code",
   "execution_count": 127,
   "metadata": {
    "scrolled": true
   },
   "outputs": [
    {
     "data": {
      "text/html": [
       "<div>\n",
       "<style scoped>\n",
       "    .dataframe tbody tr th:only-of-type {\n",
       "        vertical-align: middle;\n",
       "    }\n",
       "\n",
       "    .dataframe tbody tr th {\n",
       "        vertical-align: top;\n",
       "    }\n",
       "\n",
       "    .dataframe thead th {\n",
       "        text-align: right;\n",
       "    }\n",
       "</style>\n",
       "<table border=\"1\" class=\"dataframe\">\n",
       "  <thead>\n",
       "    <tr style=\"text-align: right;\">\n",
       "      <th></th>\n",
       "      <th>date</th>\n",
       "      <th>text</th>\n",
       "      <th>sentiment</th>\n",
       "      <th>predicted</th>\n",
       "    </tr>\n",
       "  </thead>\n",
       "  <tbody>\n",
       "    <tr>\n",
       "      <th>0</th>\n",
       "      <td>2018-07-30 23:40:15</td>\n",
       "      <td>mariellepresente convém</td>\n",
       "      <td>Positivo</td>\n",
       "      <td>Positivo</td>\n",
       "    </tr>\n",
       "    <tr>\n",
       "      <th>1</th>\n",
       "      <td>2018-07-30 23:31:31</td>\n",
       "      <td>mariellepresente convém</td>\n",
       "      <td>Positivo</td>\n",
       "      <td>Positivo</td>\n",
       "    </tr>\n",
       "    <tr>\n",
       "      <th>2</th>\n",
       "      <td>2018-07-30 23:30:52</td>\n",
       "      <td>mariellepresente convém</td>\n",
       "      <td>Positivo</td>\n",
       "      <td>Positivo</td>\n",
       "    </tr>\n",
       "    <tr>\n",
       "      <th>3</th>\n",
       "      <td>2018-07-30 23:14:22</td>\n",
       "      <td>hoje marielle franco completaria anos idade vi...</td>\n",
       "      <td>Positivo</td>\n",
       "      <td>Negativo</td>\n",
       "    </tr>\n",
       "    <tr>\n",
       "      <th>5</th>\n",
       "      <td>2018-07-30 23:12:04</td>\n",
       "      <td>dias passaram matou marielle mandou matar mari...</td>\n",
       "      <td>Positivo</td>\n",
       "      <td>Negativo</td>\n",
       "    </tr>\n",
       "  </tbody>\n",
       "</table>\n",
       "</div>"
      ],
      "text/plain": [
       "                  date                                               text  \\\n",
       "0  2018-07-30 23:40:15                            mariellepresente convém   \n",
       "1  2018-07-30 23:31:31                            mariellepresente convém   \n",
       "2  2018-07-30 23:30:52                            mariellepresente convém   \n",
       "3  2018-07-30 23:14:22  hoje marielle franco completaria anos idade vi...   \n",
       "5  2018-07-30 23:12:04  dias passaram matou marielle mandou matar mari...   \n",
       "\n",
       "  sentiment predicted  \n",
       "0  Positivo  Positivo  \n",
       "1  Positivo  Positivo  \n",
       "2  Positivo  Positivo  \n",
       "3  Positivo  Negativo  \n",
       "5  Positivo  Negativo  "
      ]
     },
     "execution_count": 127,
     "metadata": {},
     "output_type": "execute_result"
    }
   ],
   "source": [
    "marielle_t_class.head()"
   ]
  },
  {
   "cell_type": "code",
   "execution_count": 21,
   "metadata": {},
   "outputs": [
    {
     "name": "stdout",
     "output_type": "stream",
     "text": [
      "Nos dados de teste temos:\n",
      "13 verdadeiros negativos\n",
      "12 falsos positivos\n",
      "48 falsos negativos e \n",
      "11 verdadeiros positivos\n"
     ]
    }
   ],
   "source": [
    "tn, fp, fn, tp = metrics.confusion_matrix(marielle_t_class['sentiment'], marielle_t_class['predicted']).ravel()\n",
    "print(\"Nos dados de teste temos:\\n%d verdadeiros negativos\\n%d falsos positivos\\n%d falsos negativos e \\n%d verdadeiros positivos\" % (tn, fp, fn, tp))"
   ]
  },
  {
   "cell_type": "code",
   "execution_count": 22,
   "metadata": {},
   "outputs": [],
   "source": [
    "marielle_class_freq = vectorizer.transform(marielle_t_class.text)"
   ]
  },
  {
   "cell_type": "code",
   "execution_count": 23,
   "metadata": {
    "scrolled": true
   },
   "outputs": [
    {
     "name": "stdout",
     "output_type": "stream",
     "text": [
      "A acurácia do modelo é 0.85 nos dados de teste.\n"
     ]
    }
   ],
   "source": [
    "resultados = cross_val_predict(modelo, marielle_class_freq, marielle_t_class.sentiment, cv = 10)\n",
    "print(\"A acurácia do modelo é %.2f nos dados de teste.\" % metrics.accuracy_score(marielle_t_class.sentiment, resultados))"
   ]
  },
  {
   "cell_type": "code",
   "execution_count": 24,
   "metadata": {
    "scrolled": false
   },
   "outputs": [
    {
     "name": "stdout",
     "output_type": "stream",
     "text": [
      "O quadro abaixo mostra os valores de precision, recall e f1-score para os dados de teste\n",
      "\n",
      "             precision    recall  f1-score   support\n",
      "\n",
      "   Positivo       0.82      1.00      0.90        59\n",
      "   Negativo       1.00      0.48      0.65        25\n",
      "\n",
      "avg / total       0.87      0.85      0.83        84\n",
      "\n"
     ]
    }
   ],
   "source": [
    "print(\"O quadro abaixo mostra os valores de precision, recall e f1-score para os dados de teste\\n\")\n",
    "print(metrics.classification_report(marielle_t_class.sentiment, resultados, sentimentos))"
   ]
  },
  {
   "cell_type": "markdown",
   "metadata": {},
   "source": [
    "Percebemos que o modelo apresenta valores elevados para todas as métricas nas quais foi submetido, tanto no treino quanto no teste.\n",
    "\n",
    "Os tweets com a classe inferida pelo modelo podem ser baixados com o seguinte comando:"
   ]
  },
  {
   "cell_type": "code",
   "execution_count": 26,
   "metadata": {},
   "outputs": [],
   "source": [
    "marielle_tweets.to_csv(\"tweets_classificados_marielle.csv\")"
   ]
  }
 ],
 "metadata": {
  "kernelspec": {
   "display_name": "Python 3",
   "language": "python",
   "name": "python3"
  },
  "language_info": {
   "codemirror_mode": {
    "name": "ipython",
    "version": 3
   },
   "file_extension": ".py",
   "mimetype": "text/x-python",
   "name": "python",
   "nbconvert_exporter": "python",
   "pygments_lexer": "ipython3",
   "version": "3.6.5"
  }
 },
 "nbformat": 4,
 "nbformat_minor": 2
}
